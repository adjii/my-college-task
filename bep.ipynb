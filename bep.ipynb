{
 "cells": [
  {
   "cell_type": "markdown",
   "metadata": {},
   "source": [
    "**Problem 4.3.1.2**\n",
    "Apply the *penalty function method* to the problem:\n",
    "minimize $f(x)=(x_{1}-1)^2+(x_{2}-2)^2$\n",
    "such that\n",
    "$h(x)=x_{2}-x_{1}-1=0$, $g(x)=x_{1}+x_{2}-2\\le0$, $-x_{1}\\le0$, $-x_{2}\\le0$.\n",
    "__[*source link*](https://youtu.be/geFER2oVvvU)__"
   ]
  },
  {
   "cell_type": "code",
   "execution_count": null,
   "metadata": {},
   "outputs": [],
   "source": [
    "import numpy as np\n",
    "from scipy.optimize import minimize\n",
    "\n",
    "def objective(x):\n",
    "    return (x[0]-1)**2 + (x[1]-2)**2\n",
    "\n",
    "def derivative(x):\n",
    "    dfdx0 = 2*(x[0]-1)\n",
    "    dfdx1 = 2*(x[1]-2)\n",
    "    return np.array([ dfdx0, dfdx1])\n",
    "\n",
    "result = minimize(objective, [-1,-1], jac=derivative, method='SLSQP', options={'disp':True})\n",
    "print(result)"
   ]
  },
  {
   "cell_type": "markdown",
   "metadata": {},
   "source": [
    "**Problem 4.3.2.1**\n",
    "Determine the minima and maxima of $f(x)=x_{1}x_{2}$, such that $x_{1}^2+x_{2}^2=1$, by means of the Lagrangian method.\n",
    "__[*source link*](https://kitchingroup.cheme.cmu.edu/pycse/pycse.html)__"
   ]
  },
  {
   "cell_type": "code",
   "execution_count": null,
   "metadata": {},
   "outputs": [],
   "source": [
    "import numpy as np\n",
    "\n",
    "def func(X):\n",
    "    x = X[0]\n",
    "    y = X[1]\n",
    "    L = X[2] #lambda\n",
    "    return x*y + L*(x**2 + y**2 - 1)\n",
    "\n",
    "def dfunc(X):\n",
    "    dLambda = np.zeros(len(X))\n",
    "    h = 1e-3\n",
    "    for i in range(len(X)):\n",
    "        dX = np.zeros(len(X))\n",
    "        dX[i] = h\n",
    "        dLambda[i] = (func(X+dX)-func(X-dX))/(2*h);\n",
    "    return dLambda\n",
    "\n",
    "from scipy.optimize import fsolve\n",
    "\n",
    "# this is the max\n",
    "X1 = fsolve(dfunc, [1, 1, 0])\n",
    "print(\"max:\", func(X1))\n",
    "\n",
    "# this is the min\n",
    "X2 = fsolve(dfunc, [-1, 1, 0])\n",
    "print(\"min:\", func(X2))"
   ]
  }
 ],
 "metadata": {
  "kernelspec": {
   "display_name": "Python 3.9.7 64-bit",
   "language": "python",
   "name": "python3"
  },
  "language_info": {
   "codemirror_mode": {
    "name": "ipython",
    "version": 3
   },
   "file_extension": ".py",
   "mimetype": "text/x-python",
   "name": "python",
   "nbconvert_exporter": "python",
   "pygments_lexer": "ipython3",
   "version": "3.9.7"
  },
  "orig_nbformat": 4,
  "vscode": {
   "interpreter": {
    "hash": "11938c6bc6919ae2720b4d5011047913343b08a43b18698fd82dedb0d4417594"
   }
  }
 },
 "nbformat": 4,
 "nbformat_minor": 2
}
