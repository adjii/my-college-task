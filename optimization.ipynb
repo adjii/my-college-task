{
 "cells": [
  {
   "cell_type": "markdown",
   "metadata": {},
   "source": [
    "**Problem 4.3.1.2**\\\n",
    "Apply the *penalty function method* to the problem:\\\n",
    "minimize $f(x)=(x_{1}-1)^2+(x_{2}-2)^2$\\\n",
    "such that\\\n",
    "$h(x)=x_{2}-x_{1}-1=0$, $g(x)=x_{1}+x_{2}-2\\le0$, $-x_{1}\\le0$, $-x_{2}\\le0$."
   ]
  },
  {
   "cell_type": "code",
   "execution_count": null,
   "metadata": {},
   "outputs": [],
   "source": [
    "import numpy as np\n",
    "from scipy.optimize import minimize\n",
    "\n",
    "def objective(x):\n",
    "    return (x[0]-1)**2 + (x[1]-2)**2\n",
    "\n",
    "def derivative(x):\n",
    "    dfdx0 = 2*(x[0]-1)\n",
    "    dfdx1 = 2*(x[1]-2)\n",
    "    return np.array([ dfdx0, dfdx1])\n",
    "\n",
    "result = minimize(objective, [-1,-1], jac=derivative, method='SLSQP', options={'disp':True})\n",
    "print(result)"
   ]
  }
 ],
 "metadata": {
  "kernelspec": {
   "display_name": "Python 3.9.7 64-bit",
   "language": "python",
   "name": "python3"
  },
  "language_info": {
   "codemirror_mode": {
    "name": "ipython",
    "version": 3
   },
   "file_extension": ".py",
   "mimetype": "text/x-python",
   "name": "python",
   "nbconvert_exporter": "python",
   "pygments_lexer": "ipython3",
   "version": "3.9.7"
  },
  "orig_nbformat": 4,
  "vscode": {
   "interpreter": {
    "hash": "11938c6bc6919ae2720b4d5011047913343b08a43b18698fd82dedb0d4417594"
   }
  }
 },
 "nbformat": 4,
 "nbformat_minor": 2
}
